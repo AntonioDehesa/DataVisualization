{
 "cells": [
  {
   "cell_type": "markdown",
   "id": "f339526a",
   "metadata": {},
   "source": [
    "## COMP 4433: Week 5 Live Session"
   ]
  },
  {
   "cell_type": "code",
   "execution_count": null,
   "id": "0d082f69",
   "metadata": {},
   "outputs": [],
   "source": [
    "import numpy as np\n",
    "import pandas as pd\n",
    "from matplotlib import pyplot as plt\n",
    "import seaborn as sns\n",
    "from matplotlib import gridspec"
   ]
  },
  {
   "cell_type": "code",
   "execution_count": null,
   "id": "612a47e0",
   "metadata": {},
   "outputs": [],
   "source": [
    "# %matplotlib inline"
   ]
  },
  {
   "cell_type": "markdown",
   "id": "2c9ff40e",
   "metadata": {},
   "source": [
    "__First a note on style and theme__\n",
    "\n",
    "We'll discuss more next week."
   ]
  },
  {
   "cell_type": "markdown",
   "id": "a045d02b",
   "metadata": {},
   "source": [
    "#### First, the reset_defaults() function will restore all RC params (runtime configuration parameters) to their default values."
   ]
  },
  {
   "cell_type": "code",
   "execution_count": null,
   "id": "0f0dda34",
   "metadata": {},
   "outputs": [],
   "source": [
    "sns.reset_defaults()"
   ]
  },
  {
   "cell_type": "markdown",
   "id": "357f2456",
   "metadata": {},
   "source": [
    "#### The style parameters from seaborn work with the matplotlib rcParams system to control the general appearance of plots.  We'll discuss two primary functions: axes_style() and set_style()\n",
    "\n",
    "#### The seaborn function, axes_style(), has two main purposes.\n",
    "\n",
    "1. To capture current settingsfrom a passed rcparams dict or from a predefined style.\n",
    "\n",
    "2. For use as a context manager."
   ]
  },
  {
   "cell_type": "markdown",
   "id": "0950d9fa",
   "metadata": {},
   "source": [
    "#### Below we save off the default style settings.  Calling this function with no args captures the current values."
   ]
  },
  {
   "cell_type": "code",
   "execution_count": null,
   "id": "d18e03a7",
   "metadata": {},
   "outputs": [],
   "source": [
    "defaults = sns.axes_style()\n",
    "\n",
    "defaults"
   ]
  },
  {
   "cell_type": "markdown",
   "id": "58b14bed",
   "metadata": {},
   "source": [
    "#### axes.style() can also be employed as a context manager."
   ]
  },
  {
   "cell_type": "code",
   "execution_count": null,
   "id": "fb82ebab",
   "metadata": {},
   "outputs": [],
   "source": [
    "# here we plot with the default style.\n",
    "\n",
    "foo = ['A', 'B', 'C', 'D']\n",
    "bar = [5, 6, 8, 9]\n",
    "\n",
    "sns.barplot(x=foo, y=bar)\n",
    "plt.show()"
   ]
  },
  {
   "cell_type": "code",
   "execution_count": null,
   "id": "9f386345",
   "metadata": {},
   "outputs": [],
   "source": [
    "# here we use axes_style() in a with statement to avoid altering global defaults.\n",
    "\n",
    "with sns.axes_style('dark'):\n",
    "    sns.barplot(x=foo, y=bar)\n",
    "    plt.show()"
   ]
  },
  {
   "cell_type": "markdown",
   "id": "d65fe41c",
   "metadata": {},
   "source": [
    "#### axes_style() accepts strings indicating a predefined style (dark, darkgrid, white, whitegrid, ticks) or a dictionary of style parameters. This function won't modify your global style settings. It will return a dict of the supported parameters.\n",
    "\n",
    "#### For example, let's access the default matplotlib RC params.  Below we'll confirm that all of the parameters supported by the seaborn axes styles are also RC params."
   ]
  },
  {
   "cell_type": "code",
   "execution_count": null,
   "id": "3dd97b01",
   "metadata": {},
   "outputs": [],
   "source": [
    "import matplotlib as mpl\n",
    "\n",
    "rcparam_keys = list(mpl.rcParams.keys())\n",
    "\n",
    "seaborn_style_keys = list(defaults.keys())\n",
    "\n",
    "print('RCparam keys:', len(rcparam_keys))\n",
    "print('Seaborn style keys:', len(seaborn_style_keys))\n",
    "\n",
    "for i in seaborn_style_keys:\n",
    "    print(i in rcparam_keys)"
   ]
  },
  {
   "cell_type": "markdown",
   "id": "6c8534db",
   "metadata": {},
   "source": [
    "#### If we pass the entire RC params dict to the style param, we'll be returned a seaborn style dict with only the supproted parameters.  \n",
    "\n",
    "#### We'll also use both the _style_ and _rc_ keyword arguments in our function call.  We pass a dictionary to the _rc_ parameter of axes_style() to override one (or more if we wish) of the settings defined by the _style_ argument."
   ]
  },
  {
   "cell_type": "code",
   "execution_count": null,
   "id": "5d1eb1c4",
   "metadata": {},
   "outputs": [],
   "source": [
    "default_mpl = sns.axes_style(style=mpl.rcParams, rc={'axes.facecolor': '#b4eb34',\n",
    "                                                    'axes.spines.left': False,\n",
    "                                                    'axes.spines.right': False,\n",
    "                                                    'axes.spines.top': False})\n",
    "\n",
    "default_mpl "
   ]
  },
  {
   "cell_type": "code",
   "execution_count": null,
   "id": "32d6777d",
   "metadata": {},
   "outputs": [],
   "source": [
    "with sns.axes_style(default_mpl):\n",
    "    sns.barplot(x=foo, y=bar)\n",
    "    plt.show()"
   ]
  },
  {
   "cell_type": "markdown",
   "id": "99729b5c",
   "metadata": {},
   "source": [
    "#### Here we use the rc argument to override some grid-related attributes in another context-managed plot."
   ]
  },
  {
   "cell_type": "code",
   "execution_count": null,
   "id": "17976d9b",
   "metadata": {},
   "outputs": [],
   "source": [
    "with sns.axes_style(default_mpl, rc={'axes.grid': True,\n",
    "                                    'grid.color': '#0a0909'}):\n",
    "    \n",
    "    sns.barplot(x=foo, y=bar)\n",
    "    plt.show()"
   ]
  },
  {
   "cell_type": "markdown",
   "id": "94ece57e",
   "metadata": {},
   "source": [
    "#### We'll discuss set_style() more next week, but these can be used to modify global defaults for all plots.  set_style() takes the same arguments as axes_style(). Here's an example."
   ]
  },
  {
   "cell_type": "code",
   "execution_count": null,
   "id": "f107118d",
   "metadata": {},
   "outputs": [],
   "source": [
    "sns.set_style('dark') # using set_style() to modify global defaults\n",
    "\n",
    "sns.axes_style() # inspecting current style specs"
   ]
  },
  {
   "cell_type": "markdown",
   "id": "453db437",
   "metadata": {},
   "source": [
    "#### Now we've changed the style setting globally"
   ]
  },
  {
   "cell_type": "code",
   "execution_count": null,
   "id": "eca99e5f",
   "metadata": {},
   "outputs": [],
   "source": [
    "sns.barplot(x=foo, y=bar)\n",
    "plt.show()"
   ]
  },
  {
   "cell_type": "markdown",
   "id": "19eb2075",
   "metadata": {},
   "source": [
    "#### Here we use set_style() along with the default parameters that we saved off earlier to change back to our defaults globally. "
   ]
  },
  {
   "cell_type": "code",
   "execution_count": null,
   "id": "840070a5",
   "metadata": {},
   "outputs": [],
   "source": [
    "sns.set_style(defaults) # or sns.set_style(style=defaults) "
   ]
  },
  {
   "cell_type": "code",
   "execution_count": null,
   "id": "c336470e",
   "metadata": {},
   "outputs": [],
   "source": [
    "sns.axes_style()"
   ]
  },
  {
   "cell_type": "markdown",
   "id": "d0d1f2a7",
   "metadata": {},
   "source": [
    "#### figure-level vs axes-level functions in Seaborn\n",
    "\n",
    "It's useful to review the documentation on this concept.\n",
    "This will help you fully incorporate seaborn plotting\n",
    "with matplotlib object-oriented approaches.\n",
    "\n",
    "Each seaborn plotting module has a top-level figure-level function.\n",
    "Figure-level functions interface with matplotlib through a seaborn object (almost always a FacetGrid).  Axes-level functions return a matplotlib Axes object.\n",
    "\n",
    "Figure-level functions can produce their assoicated axes-level plots by sepcifying the 'kind' paramater.  There are advantages and disadvangages to both.\n",
    "\n",
    "Axes-level plots are easy to use and are matplotlib objects, so they're simple to incorporate with other matplotlib functionality."
   ]
  },
  {
   "cell_type": "code",
   "execution_count": null,
   "id": "80d4ddd2",
   "metadata": {},
   "outputs": [],
   "source": [
    "diamonds = sns.load_dataset('diamonds')"
   ]
  },
  {
   "cell_type": "code",
   "execution_count": null,
   "id": "f5a4d27f",
   "metadata": {},
   "outputs": [],
   "source": [
    "# histplot() is an axes-level function\n",
    "hist = sns.histplot(data=diamonds, x='price', hue='cut', multiple='stack')\n",
    "\n",
    "print(type(hist))\n",
    "\n",
    "# similar to the .gca() method to access current axes of a figure, we can\n",
    "# use .gcf() to get (or generate...if it doesn't exist) the current figure from a plot.\n",
    "\n",
    "fig = plt.gcf() \n",
    "print(type(fig))\n",
    "\n",
    "# we can employ any of the pyplot axes methods on our Seaborn axes-level plots.\n",
    "hist.set_title('Price Distribution by Hue', fontsize=12)\n",
    "plt.xticks(rotation=45)\n",
    "\n",
    "hist.spines.left.set_visible(False)\n",
    "hist.spines.top.set_visible(False)\n",
    "hist.spines.right.set_visible(False)\n",
    "hist.spines.bottom.set_color('gray')\n",
    "\n",
    "# now that we have access to the figure, we can also utilize figure-level methods\n",
    "fig.suptitle('DIAMONDS', fontsize=14)\n",
    "\n",
    "# setting figure width and height with figure methods\n",
    "fig.set_figwidth(8)\n",
    "fig.set_figheight(4)\n",
    "\n",
    "plt.show()"
   ]
  },
  {
   "cell_type": "code",
   "execution_count": null,
   "id": "b1a8415d",
   "metadata": {
    "scrolled": false
   },
   "outputs": [],
   "source": [
    "# displot() is figure-level plotting function.\n",
    "\n",
    "hist2 = sns.displot(data=diamonds, \n",
    "            x='price', hue='cut', multiple='stack', \n",
    "            kind='hist',\n",
    "            facet_kws=dict(legend_out=False),\n",
    "            height=4, aspect=1.5)\n",
    "\n",
    "# the move_legend() function works on matplotlib axes objects as well as seaborn objects\n",
    "# if we use this function on a facet grid, we'll get extra white space to the right of the plot\n",
    "# to prevent this you can set legend_out = False on the facet_grid (see above)\n",
    "sns.move_legend(hist2, 'upper right')\n",
    "\n",
    "print(type(hist2.figure))\n",
    "print(type(hist2))\n",
    "\n",
    "# while hist2 is a seaborn object it has components that are matplotlib objects\n",
    "# below we access the figure object of the facet grid\n",
    "hist2.figure.suptitle('DIAMONDS', fontsize=14)\n",
    "\n",
    "# setting figure width and height with figure methods\n",
    "hist2.figure.set_figwidth(8)\n",
    "hist2.figure.set_figheight(4)\n",
    "\n",
    "plt.show()"
   ]
  },
  {
   "cell_type": "markdown",
   "id": "21b08e7b",
   "metadata": {},
   "source": [
    "#### One advantage of the figure-level plotting functions is that you can facet them from your function call."
   ]
  },
  {
   "cell_type": "code",
   "execution_count": null,
   "id": "bad4eb4f",
   "metadata": {
    "scrolled": false
   },
   "outputs": [],
   "source": [
    "# Below we use the figure-level method and facet the plots by cut\n",
    "\n",
    "sns.displot(data=diamonds, x='price', hue='cut', kind='hist', col='cut')\n",
    "\n",
    "#fig = plt.gcf()\n",
    "#fig.set_figwidth(10)\n",
    "#fig.set_figheight(4)\n",
    "\n",
    "plt.show()"
   ]
  },
  {
   "cell_type": "markdown",
   "id": "ddacc1d4",
   "metadata": {},
   "source": [
    "__Axes-level plots can be used to build complex matplotlib plots\n",
    "using an object-oriented approach.\n",
    "Figure-level plotting functions can't be used to draw on subplot axes.__"
   ]
  },
  {
   "cell_type": "code",
   "execution_count": null,
   "id": "d4b2345d",
   "metadata": {},
   "outputs": [],
   "source": [
    "# for example, this will throw an error\n",
    "fig, ax = plt.subplots(figsize=(8, 6))\n",
    "sns.displot(data=diamonds, x='price', hue='cut', kind='hist', ax=ax)"
   ]
  },
  {
   "cell_type": "code",
   "execution_count": null,
   "id": "ef380424",
   "metadata": {
    "scrolled": false
   },
   "outputs": [],
   "source": [
    "fig, axs = plt.subplots(1, 2, figsize=(8, 4))\n",
    "\n",
    "sns.histplot(data=diamonds, x='price', hue='cut', multiple='stack', ax=axs[0])\n",
    "sns.kdeplot(data=diamonds, x='price', hue='cut', multiple='stack', ax=axs[1])\n",
    "\n",
    "axs[0].set_title('Histogram')\n",
    "axs[1].set_title('KDE')\n",
    "\n",
    "plt.tight_layout()\n",
    "plt.show()"
   ]
  },
  {
   "cell_type": "markdown",
   "id": "56742bdb",
   "metadata": {},
   "source": [
    "__More on integrating fig, ax object-oriented pyplot approach with sns.__\n",
    "\n",
    "Specify ax argument in call to axes-level sns plotting functions.\n",
    "\n",
    "Don't forget about the shape of the ndarray axes objects."
   ]
  },
  {
   "cell_type": "code",
   "execution_count": null,
   "id": "07a7909f",
   "metadata": {},
   "outputs": [],
   "source": [
    "mpg = sns.load_dataset('mpg')"
   ]
  },
  {
   "cell_type": "code",
   "execution_count": null,
   "id": "d66df910",
   "metadata": {},
   "outputs": [],
   "source": [
    "#sns.set()\n",
    "sns.set_style('darkgrid')"
   ]
  },
  {
   "cell_type": "code",
   "execution_count": null,
   "id": "3d69bc7d",
   "metadata": {},
   "outputs": [],
   "source": [
    "fig = plt.figure(figsize=(12, 9))\n",
    "\n",
    "gs = fig.add_gridspec(3, 4)\n",
    "ax0 = plt.subplot(gs[:2, :2])\n",
    "ax1 = plt.subplot(gs[2:, :2])\n",
    "ax2 = plt.subplot(gs[:3, 2:])\n",
    "\n",
    "sns.scatterplot(data=mpg, x='acceleration',\n",
    "                y='mpg', hue='cylinders',\n",
    "                ax=ax0)\n",
    "\n",
    "sns.histplot(data=mpg, x='mpg', bins=20,\n",
    "             ax=ax1)\n",
    "\n",
    "sns.boxplot(data=mpg, x='model_year', y='mpg',\n",
    "            ax=ax2)\n",
    "\n",
    "ax2.set_xlabel('model year')\n",
    "\n",
    "fig.suptitle('Automobile Data (1970-1982)', fontsize=18)\n",
    "\n",
    "plt.tight_layout()\n",
    "\n",
    "plt.show()"
   ]
  },
  {
   "cell_type": "markdown",
   "id": "bf89c5bb",
   "metadata": {},
   "source": [
    "__Multi-Classifier Consensus Density Plot__\n",
    "\n",
    "I made this name up, but the plot itself is occasionally useful.\n",
    "Especially if you're trying to assess differential classification,\n",
    "identify hard-to-classify cases or determine voting in an ensemble model.\n",
    "\n",
    "A similar technique is employed in the week 6 asynch for missingness."
   ]
  },
  {
   "cell_type": "code",
   "execution_count": null,
   "id": "c57cdfe9",
   "metadata": {},
   "outputs": [],
   "source": [
    "# some random data meant to simulate the application of some different classifiers\n",
    "np.random.seed(57)\n",
    "\n",
    "pid = np.linspace(8000, 9001, 1000, dtype=int).astype(str) # an id for records\n",
    "outcome = np.random.randint(0, 2, 1000)\n",
    "\n",
    "classifier_1_y_hat = np.round((outcome + 0.5) * np.random.rand(1000)).astype(int)\n",
    "classifier_2_y_hat = np.round((outcome + 0.4) * np.random.rand(1000)).astype(int)\n",
    "classifier_3_y_hat = np.round((outcome + 0.3) * np.random.rand(1000)).astype(int)"
   ]
  },
  {
   "cell_type": "code",
   "execution_count": null,
   "id": "fec202ce",
   "metadata": {},
   "outputs": [],
   "source": [
    "# building a dataframe\n",
    "df = pd.DataFrame(list(zip(pid, outcome, classifier_1_y_hat, classifier_2_y_hat, classifier_3_y_hat)),\n",
    "                  columns=['id', 'outcome', 'c_1', 'c_2', 'c_3'])"
   ]
  },
  {
   "cell_type": "code",
   "execution_count": null,
   "id": "418f5235",
   "metadata": {},
   "outputs": [],
   "source": [
    "df.head()"
   ]
  },
  {
   "cell_type": "code",
   "execution_count": null,
   "id": "25db8e52",
   "metadata": {},
   "outputs": [],
   "source": [
    "# we could use a boolean mask here, but I'm creating new columns to assess classifications\n",
    "for i, j in zip(['c_1', 'c_2', 'c_3'], ['c_1_bool', 'c_2_bool', 'c_3_bool']):\n",
    "    df[j] = np.vectorize(lambda x, y: True if x == y else False)(df[i], df['outcome'])"
   ]
  },
  {
   "cell_type": "code",
   "execution_count": null,
   "id": "e0b595d5",
   "metadata": {},
   "outputs": [],
   "source": [
    "# Bool value heatmap...classification results unsorted.\n",
    "sns.heatmap(df[['c_1_bool', 'c_2_bool', 'c_3_bool']], cbar=True, cmap='vlag')\n",
    "plt.tight_layout()\n",
    "plt.show()"
   ]
  },
  {
   "cell_type": "code",
   "execution_count": null,
   "id": "f6e09bba",
   "metadata": {},
   "outputs": [],
   "source": [
    "# This might be easier to see if we sort by the best classifier.\n",
    "# Let's inspect the average to see proportion of correct classifications.\n",
    "df[['c_1_bool', 'c_2_bool', 'c_3_bool']].astype(int).describe()"
   ]
  },
  {
   "cell_type": "code",
   "execution_count": null,
   "id": "d464b4b5",
   "metadata": {},
   "outputs": [],
   "source": [
    "# we'll sort the values to achieve a better grouping of classifier consensus.\n",
    "\n",
    "df.sort_values(by=['c_1_bool', 'c_2_bool', 'c_3_bool'],\n",
    "              ascending=[True, True, True],\n",
    "              inplace=True)\n",
    "\n",
    "sns.heatmap(df[['c_1_bool', 'c_2_bool', 'c_3_bool']], cbar=True, \n",
    "            cmap=sns.diverging_palette(360, 145, as_cmap=True))\n",
    "plt.tight_layout()\n",
    "plt.show()"
   ]
  },
  {
   "cell_type": "markdown",
   "id": "faa9fc28",
   "metadata": {},
   "source": [
    "__Facet Grids__\n",
    "\n",
    "Note that we can facet figure-level plots by specifying column and row args.\n",
    "Also note that we can essentially replicate any axes-level plot from the figure-level\n",
    "method by specifying the kind argument. "
   ]
  },
  {
   "cell_type": "code",
   "execution_count": null,
   "id": "028939d6",
   "metadata": {},
   "outputs": [],
   "source": [
    "# basic figure-level relational plot\n",
    "sns.relplot(data=mpg, x='mpg', y='horsepower', col='origin')\n",
    "plt.show()"
   ]
  },
  {
   "cell_type": "code",
   "execution_count": null,
   "id": "7939c4d6",
   "metadata": {},
   "outputs": [],
   "source": [
    "# specifying kind for relplot()\n",
    "sns.relplot(data=mpg, x='mpg', y='horsepower', col='origin', kind='line', errorbar=None)\n",
    "plt.show()"
   ]
  },
  {
   "cell_type": "code",
   "execution_count": null,
   "id": "e76bbcd8",
   "metadata": {},
   "outputs": [],
   "source": [
    "sns.catplot(data=mpg, x='model_year', y='mpg', col='origin', kind='strip') \n",
    "plt.show()"
   ]
  },
  {
   "cell_type": "code",
   "execution_count": null,
   "id": "a7558ed1",
   "metadata": {
    "scrolled": false
   },
   "outputs": [],
   "source": [
    "sns.catplot(data=mpg, x='model_year', y='mpg', row='origin', kind='violin',\n",
    "                     height=6, aspect=1.5)\n",
    "\n",
    "\n",
    "plt.show()"
   ]
  },
  {
   "cell_type": "code",
   "execution_count": null,
   "id": "ffd6bac0",
   "metadata": {},
   "outputs": [],
   "source": [
    "sns.set_style('whitegrid')"
   ]
  },
  {
   "cell_type": "markdown",
   "id": "992bdfac",
   "metadata": {},
   "source": [
    "__Specifying a FacetGrid__\n",
    "\n",
    "note the availability of the methods FacetGrid.map()\n",
    "\n",
    "and FacetGrid.map_dataframe() for applying plotting functions.\n"
   ]
  },
  {
   "cell_type": "code",
   "execution_count": null,
   "id": "c8e99d5d",
   "metadata": {
    "scrolled": false
   },
   "outputs": [],
   "source": [
    "g = sns.FacetGrid(diamonds, col='cut', row='color')\n",
    "\n",
    "# mapping an axes-level plotting method\n",
    "# and specifying a member of self.data (a feature from diamonds in this case)\n",
    "# here g.data will return a reference to our diamonds dataframe.\n",
    "\n",
    "g.map(sns.kdeplot, 'price') \n",
    "sns.despine(left=True, bottom=True)\n",
    "plt.show()"
   ]
  },
  {
   "cell_type": "markdown",
   "id": "3cc27909",
   "metadata": {},
   "source": [
    "#### map_dataframe() is vey similar to map(), but it's designed for use with plotting functions that accept the data keyword argument and allow you to access column values by passing strings."
   ]
  },
  {
   "cell_type": "code",
   "execution_count": null,
   "id": "6399c8e5",
   "metadata": {},
   "outputs": [],
   "source": [
    "g2 = sns.FacetGrid(mpg, col='origin')\n",
    "g2.map_dataframe(sns.scatterplot, 'mpg', 'acceleration', hue='model_year')\n",
    "g2.add_legend()\n",
    "plt.show()"
   ]
  },
  {
   "cell_type": "markdown",
   "id": "2fc21f10",
   "metadata": {},
   "source": [
    "#### Below using .map() will give us the same result as above, however we pass slightly different arguments.  The args are column names from self.data (the mpg dataframe in this case), and all kwargs are passed to the function (sns.scatterplot in this case)."
   ]
  },
  {
   "cell_type": "code",
   "execution_count": null,
   "id": "346aa137",
   "metadata": {},
   "outputs": [],
   "source": [
    "g2 = sns.FacetGrid(mpg, col='origin')\n",
    "g2.map(sns.scatterplot, 'mpg', 'acceleration', hue=mpg['model_year'])\n",
    "plt.show()"
   ]
  },
  {
   "cell_type": "markdown",
   "id": "ef809272",
   "metadata": {},
   "source": [
    "#### Same result..."
   ]
  },
  {
   "cell_type": "code",
   "execution_count": null,
   "id": "07c1b304",
   "metadata": {},
   "outputs": [],
   "source": [
    "g2 = sns.FacetGrid(mpg, col='origin')\n",
    "g2.map(sns.scatterplot, 'mpg', 'acceleration', data=mpg, hue='model_year')\n",
    "plt.show()"
   ]
  },
  {
   "cell_type": "markdown",
   "id": "3d160599",
   "metadata": {},
   "source": [
    "#### A modified plot using scatter and line kws."
   ]
  },
  {
   "cell_type": "code",
   "execution_count": null,
   "id": "7420e6d9",
   "metadata": {},
   "outputs": [],
   "source": [
    "g3 = sns.FacetGrid(mpg, col='origin')\n",
    "# scatter_kws and line_kws are addtional args that get passed to plt.scatter and plt.plot\n",
    "g3.map_dataframe(sns.regplot, 'mpg', 'acceleration', scatter_kws={\"color\": \"black\"}, line_kws={\"color\": \"red\"})\n",
    "plt.show()"
   ]
  },
  {
   "cell_type": "code",
   "execution_count": null,
   "id": "295d3d60",
   "metadata": {},
   "outputs": [],
   "source": [
    "# note that lmplot is figure-level while regplot is axes-level\n",
    "# lmplot combines facetgrids with elements of regplot()\n",
    "\n",
    "g4 = sns.lmplot(data=mpg, x='mpg', y='acceleration', col='origin', hue='origin')\n",
    "plt.show()"
   ]
  },
  {
   "cell_type": "code",
   "execution_count": null,
   "id": "27c1f60b",
   "metadata": {},
   "outputs": [],
   "source": [
    "# note that lmplot is the figure-level equivalent of regplot\n",
    "\n",
    "g5 = sns.lmplot(data=mpg, x='mpg', y='acceleration', hue='origin')\n",
    "plt.show()"
   ]
  },
  {
   "cell_type": "markdown",
   "id": "9edaf23b",
   "metadata": {},
   "source": [
    "__pairplots__\n",
    "\n",
    "These were tricky for us to achieve in matplotlib but easy with seaborn.\n",
    "These will detect and operate only on numeric columns."
   ]
  },
  {
   "cell_type": "code",
   "execution_count": null,
   "id": "ffa42219",
   "metadata": {},
   "outputs": [],
   "source": [
    "sns.pairplot(mpg)\n",
    "plt.show()"
   ]
  },
  {
   "cell_type": "code",
   "execution_count": null,
   "id": "9ae09591",
   "metadata": {},
   "outputs": [],
   "source": [
    "sns.reset_orig()"
   ]
  },
  {
   "cell_type": "markdown",
   "id": "89164e42",
   "metadata": {},
   "source": [
    "#### More on Gridspec and customizing figure layouts\n",
    "\n",
    "Subplots is probably the most common approach for specifying multiple axes,\n",
    "but as we've seen there are options that provide greater flexibility.\n",
    "Gridspec allows us to set the geometry in terms of #rows and #cols."
   ]
  },
  {
   "cell_type": "markdown",
   "id": "65ce4b14",
   "metadata": {},
   "source": [
    "#### a basic 2x2 subplot space"
   ]
  },
  {
   "cell_type": "code",
   "execution_count": null,
   "id": "2e028dce",
   "metadata": {
    "scrolled": false
   },
   "outputs": [],
   "source": [
    "fig1, axes1 = plt.subplots(2, 2, figsize=(9, 6))\n",
    "plt.show()"
   ]
  },
  {
   "cell_type": "markdown",
   "id": "e31d620e",
   "metadata": {},
   "source": [
    "#### The above is more cumbersome to achieve with gridspec...\n",
    "\n",
    "but notice the flexibility in terms of achieving differential axes sizing.\n",
    "\n",
    "Note: constrained layout is similar to tight_layout() but needs\n",
    "to be implemented before axes are added to a figure."
   ]
  },
  {
   "cell_type": "code",
   "execution_count": null,
   "id": "2595ac60",
   "metadata": {},
   "outputs": [],
   "source": [
    "fig2 = plt.figure(constrained_layout=True)\n",
    "\n",
    "gs = gridspec.GridSpec(2, 2, figure=fig2)\n",
    "\n",
    "ax2_1 = fig2.add_subplot(gs[0, 0])\n",
    "ax2_2 = fig2.add_subplot(gs[0, 1])\n",
    "ax2_3 = fig2.add_subplot(gs[1, 0])\n",
    "ax2_4 = fig2.add_subplot(gs[1, 1])\n",
    "\n",
    "plt.show()"
   ]
  },
  {
   "cell_type": "markdown",
   "id": "ee9c1d2a",
   "metadata": {},
   "source": [
    "#### we can easily achieve something more nuanced"
   ]
  },
  {
   "cell_type": "code",
   "execution_count": null,
   "id": "2e5cbbea",
   "metadata": {},
   "outputs": [],
   "source": [
    "fig3 = plt.figure(constrained_layout=True)\n",
    "\n",
    "gs = gridspec.GridSpec(3, 3, figure=fig3)\n",
    "\n",
    "ax3_1 = fig3.add_subplot(gs[0, :])\n",
    "ax3_2 = fig3.add_subplot(gs[1, :2])\n",
    "ax3_3 = fig3.add_subplot(gs[1, 2:])\n",
    "ax3_4 = fig3.add_subplot(gs[2:, :1])\n",
    "ax3_5 = fig3.add_subplot(gs[2:, 1:])\n",
    "\n",
    "plt.show()"
   ]
  },
  {
   "cell_type": "markdown",
   "id": "4a2893a0",
   "metadata": {},
   "source": [
    "#### note that .add_gridspec() is a convenience method to accomplish the above. This can save you an import."
   ]
  },
  {
   "cell_type": "code",
   "execution_count": null,
   "id": "6ae3dc93",
   "metadata": {},
   "outputs": [],
   "source": [
    "fig4 = plt.figure(constrained_layout=True)\n",
    "\n",
    "gs = fig4.add_gridspec(3, 3)\n",
    "\n",
    "ax4_1 = fig4.add_subplot(gs[0, :])\n",
    "ax4_1.set_title('gs[0, :]')\n",
    "ax4_2 = fig4.add_subplot(gs[1, :2])\n",
    "ax4_2.set_title('gs[1, :2]')\n",
    "ax4_3 = fig4.add_subplot(gs[1, 2:])\n",
    "ax4_3.set_title('gs[1, 2:]')\n",
    "ax4_4 = fig4.add_subplot(gs[2:, :1])\n",
    "ax4_4.set_title('gs[2:, :1]')\n",
    "ax4_5 = fig4.add_subplot(gs[2:, 1:])\n",
    "ax4_5.set_title('gs[2:, 1:]')\n",
    "\n",
    "plt.show()"
   ]
  },
  {
   "cell_type": "markdown",
   "id": "5f7706a3",
   "metadata": {},
   "source": [
    "#### Now we'll specify some width and height ratios."
   ]
  },
  {
   "cell_type": "code",
   "execution_count": null,
   "id": "43ab3742",
   "metadata": {},
   "outputs": [],
   "source": [
    "fig5 = plt.figure(constrained_layout=True)\n",
    "\n",
    "\"\"\"Note the absolute values don't matter here...\n",
    "\n",
    "We're only concerned with the ratios.\n",
    "[2, 3, 1.5] is equiv to [4, 6, 3]\"\"\"\n",
    "\n",
    "widths = [2, 3, 1.5]\n",
    "heights = [1, 3, 2]\n",
    "\n",
    "# initializing the gridspec geometry\n",
    "gs5 = fig5.add_gridspec(nrows=3, ncols=3, width_ratios=widths,\n",
    "                        height_ratios=heights)\n",
    "\n",
    "\"\"\"We have our gridspec. Now we're just assigning\n",
    "gridspec components to axes and annotating for clarity.\"\"\"\n",
    "\n",
    "for row in range(3):\n",
    "    for col in range(3):\n",
    "        ax = fig5.add_subplot(gs5[row, col])\n",
    "        label = 'Width: {}\\nHeight: {}'.format(widths[col], heights[row])\n",
    "        ax.annotate(label, (0.1, 0.5), xycoords='axes fraction', va='center')\n",
    "\n",
    "plt.show()"
   ]
  },
  {
   "cell_type": "markdown",
   "id": "d9486334",
   "metadata": {},
   "source": [
    "#### Now we use the gridspec_kw parameter with subplots.\n",
    "\n",
    "Note, we're passing the width and height params (as a dict) to gridspec_kw\n",
    "as part of our call to subplots() instead of passing them to\n",
    "add_gridspec() or gridspec.GridSpec()"
   ]
  },
  {
   "cell_type": "code",
   "execution_count": null,
   "id": "8ccbe650",
   "metadata": {
    "scrolled": false
   },
   "outputs": [],
   "source": [
    "# using gridspec_kw...a subplots() parameter.\n",
    "# any parameter accepted by GridSpec() can be passed to subplots() through the gridspec_kw parameter.\n",
    "# below width_ratios and height_ratios are keyword params accepted by GridSpec(), but we'll pass them directly to subplots().\n",
    "\n",
    "widths = [1, 1, 2] # col width\n",
    "heights = [1, 1, 1] # row height\n",
    "\n",
    "gs_kw = dict(width_ratios=widths, height_ratios=heights)\n",
    "\n",
    "fig, axs = plt.subplots(ncols=3, nrows=3, constrained_layout=True,\n",
    "                         gridspec_kw=gs_kw)\n",
    "\n",
    "\"\"\"Since we're passing gridspec params through subplots\n",
    "we already have our axes specified, so we'll iterate a bit differently than above.\"\"\"\n",
    "\n",
    "for i, ax in np.ndenumerate(axs):\n",
    "        label = 'Width: {}\\nHeight: {}'.format(widths[i[1]], heights[i[0]])\n",
    "        ax.annotate(label, (0.1, 0.5), xycoords='axes fraction', va='center')        \n",
    "\n",
    "plt.show()"
   ]
  },
  {
   "cell_type": "markdown",
   "id": "3163cb79",
   "metadata": {},
   "source": [
    "__IN-Class__\n",
    "\n",
    "Read in the following csv files. These are US higher education enrollment data.\n",
    "\n",
    "chars = pd.read_csv('https://nces.ed.gov/ipeds/datacenter/data/HD2021.zip', \n",
    "                    compression='zip',\n",
    "                    encoding=\"ISO-8859-1\")\n",
    "\n",
    "enr = pd.read_csv('https://nces.ed.gov/ipeds/datacenter/data/EFFY2021.zip',\n",
    "                  compression='zip',encoding=\"ISO-8859-1\")\n",
    "                  \n",
    "\n",
    "- Retain INSTNM,  STABBR, CONTROL and UNITID from chars.  \n",
    "- Only retain enr records where EFFYALEV = 1 (all credit seeking students).\n",
    "- Retain EFYTOTLT and UNITID from enr.  \n",
    "\n",
    "CONTROL (1=public, 2=private, 3=for profit) drop -3.\n",
    "\n",
    "UNITID can be used to join these two DataFrames. \n",
    "\n",
    "Listwise drop records with any null values.\n",
    "\n",
    "INSTNM = school\n",
    "STABBR = state\n",
    "CONTROL = control\n",
    "EFYTOTLT = enrollment\n",
    "\n",
    "_Try to address the first task below. If you have time attempt the second and third items._\n",
    "\n",
    "1. Using subplots in conjunction with sns plotting functions plot a histogram of total enrollment and overlay the cummulative distribution function on top of it.  There may be some extreme enrollment values, so think about an appropriate approach for excluding records that will allow us to get a good view of the distribution.\n",
    "\n",
    "2. Compare the enrollment distributionss of public, private and for profit institutions.\n",
    "\n",
    "3. Plot the enrollment distribution of Colorado institutions, and try to call out DU's enrollment specifically.\n",
    "\n",
    "The preliminary cleaning steps are provided below so you can focus on the plotting."
   ]
  },
  {
   "cell_type": "code",
   "execution_count": null,
   "id": "c2665b8a",
   "metadata": {},
   "outputs": [],
   "source": [
    "chars = pd.read_csv('https://nces.ed.gov/ipeds/datacenter/data/HD2021.zip', \n",
    "                    compression='zip',\n",
    "                    encoding=\"ISO-8859-1\")"
   ]
  },
  {
   "cell_type": "markdown",
   "id": "e2c5dbef",
   "metadata": {},
   "source": [
    "#### The second zip file contains two csv files, so you can run the following bash commands to curl and unizp it, or you can download it manually."
   ]
  },
  {
   "cell_type": "code",
   "execution_count": null,
   "id": "cb35c8ec",
   "metadata": {},
   "outputs": [],
   "source": [
    "! curl -O https://nces.ed.gov/ipeds/datacenter/data/EFFY2021.zip"
   ]
  },
  {
   "cell_type": "code",
   "execution_count": null,
   "id": "2bec55fd",
   "metadata": {},
   "outputs": [],
   "source": [
    "! unzip EFFY2021.zip"
   ]
  },
  {
   "cell_type": "code",
   "execution_count": null,
   "id": "95dc72d1",
   "metadata": {},
   "outputs": [],
   "source": [
    "enr = pd.read_csv('effy2021.csv',\n",
    "                  encoding=\"ISO-8859-1\")"
   ]
  },
  {
   "cell_type": "code",
   "execution_count": null,
   "id": "8a00511f",
   "metadata": {},
   "outputs": [],
   "source": [
    "chars = chars[['UNITID', 'INSTNM', 'STABBR', 'CONTROL']]\n",
    "\n",
    "enr = enr.loc[enr['EFFYALEV'] == 1, ['UNITID', 'EFYTOTLT']]\n",
    "\n",
    "data = pd.merge(chars, enr, how='left', on='UNITID')"
   ]
  },
  {
   "cell_type": "code",
   "execution_count": null,
   "id": "d85d0454",
   "metadata": {},
   "outputs": [],
   "source": [
    "data.dropna(how='any', axis=0, inplace=True)"
   ]
  },
  {
   "cell_type": "code",
   "execution_count": null,
   "id": "0ce443b4",
   "metadata": {},
   "outputs": [],
   "source": [
    "data.rename(columns={'INSTNM': 'school',\n",
    "                    'STABBR': 'state',\n",
    "                    'CONTROL': 'control',\n",
    "                    'EFYTOTLT': 'enrollment'},\n",
    "           inplace=True)"
   ]
  },
  {
   "cell_type": "code",
   "execution_count": null,
   "id": "9eaec23c",
   "metadata": {},
   "outputs": [],
   "source": [
    "data['control'] = data['control'].map({1: 'public', 2: 'private', 3: 'for-profit'})"
   ]
  }
 ],
 "metadata": {
  "kernelspec": {
   "display_name": "Python 3 (ipykernel)",
   "language": "python",
   "name": "python3"
  },
  "language_info": {
   "codemirror_mode": {
    "name": "ipython",
    "version": 3
   },
   "file_extension": ".py",
   "mimetype": "text/x-python",
   "name": "python",
   "nbconvert_exporter": "python",
   "pygments_lexer": "ipython3",
   "version": "3.10.12"
  }
 },
 "nbformat": 4,
 "nbformat_minor": 5
}
