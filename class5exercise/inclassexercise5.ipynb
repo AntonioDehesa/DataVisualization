{
 "cells": [
  {
   "cell_type": "markdown",
   "id": "80951036",
   "metadata": {},
   "source": [
    "__IN-Class__\n",
    "\n",
    "Read in the following csv files. These are US higher education enrollment data.\n",
    "\n",
    "chars = pd.read_csv('https://nces.ed.gov/ipeds/datacenter/data/HD2021.zip', \n",
    "                    compression='zip',\n",
    "                    encoding=\"ISO-8859-1\")\n",
    "\n",
    "enr = pd.read_csv('https://nces.ed.gov/ipeds/datacenter/data/EFFY2021.zip',\n",
    "                  compression='zip',encoding=\"ISO-8859-1\")\n",
    "                  \n",
    "\n",
    "- Retain INSTNM,  STABBR, CONTROL and UNITID from chars.  \n",
    "- Only retain enr records where EFFYALEV = 1 (all credit seeking students).\n",
    "- Retain EFYTOTLT and UNITID from enr.  \n",
    "\n",
    "CONTROL (1=public, 2=private, 3=for profit) drop -3.\n",
    "\n",
    "UNITID can be used to join these two DataFrames. \n",
    "\n",
    "Listwise drop records with any null values.\n",
    "\n",
    "INSTNM = school\n",
    "STABBR = state\n",
    "CONTROL = control\n",
    "EFYTOTLT = enrollment\n",
    "\n",
    "_Try to address the first task below. If you have time attempt the second and third items._\n",
    "\n",
    "1. Using subplots in conjunction with sns plotting functions plot a histogram of total enrollment and overlay the cummulative distribution function on top of it.  There may be some extreme enrollment values, so think about an appropriate approach for excluding records that will allow us to get a good view of the distribution.\n",
    "\n",
    "2. Compare the enrollment distributionss of public, private and for profit institutions.\n",
    "\n",
    "3. Plot the enrollment distribution of Colorado institutions, and try to call out DU's enrollment specifically.\n",
    "\n",
    "The preliminary cleaning steps are provided below so you can focus on the plotting."
   ]
  },
  {
   "cell_type": "code",
   "execution_count": 1,
   "id": "92d4669e",
   "metadata": {},
   "outputs": [],
   "source": [
    "# imports\n",
    "import pandas as pd\n",
    "import numpy as np\n",
    "import seaborn as sns\n",
    "import matplotlib.pyplot as plt"
   ]
  },
  {
   "cell_type": "code",
   "execution_count": 2,
   "id": "6175a19a",
   "metadata": {},
   "outputs": [],
   "source": [
    "chars = pd.read_csv('https://nces.ed.gov/ipeds/datacenter/data/HD2021.zip', \n",
    "                    compression='zip',\n",
    "                    encoding=\"ISO-8859-1\")"
   ]
  },
  {
   "cell_type": "code",
   "execution_count": 3,
   "id": "e163d669",
   "metadata": {},
   "outputs": [
    {
     "name": "stdout",
     "output_type": "stream",
     "text": [
      "  % Total    % Received % Xferd  Average Speed   Time    Time     Time  Current\n",
      "                                 Dload  Upload   Total   Spent    Left  Speed\n",
      "100 5415k  100 5415k    0     0   746k      0  0:00:07  0:00:07 --:--:-- 1004k\n"
     ]
    }
   ],
   "source": [
    "! curl -O https://nces.ed.gov/ipeds/datacenter/data/EFFY2021.zip"
   ]
  },
  {
   "cell_type": "code",
   "execution_count": 4,
   "id": "da2227d5",
   "metadata": {},
   "outputs": [
    {
     "name": "stdout",
     "output_type": "stream",
     "text": [
      "Archive:  EFFY2021.zip\n",
      "  inflating: effy2021.csv            \n",
      "  inflating: effy2021_rv.csv         \n"
     ]
    }
   ],
   "source": [
    "! unzip EFFY2021.zip"
   ]
  },
  {
   "cell_type": "code",
   "execution_count": 5,
   "id": "61c07ee6",
   "metadata": {},
   "outputs": [],
   "source": [
    "enr = pd.read_csv('effy2021.csv',\n",
    "                  encoding=\"ISO-8859-1\")"
   ]
  },
  {
   "cell_type": "code",
   "execution_count": 6,
   "id": "448b1c24",
   "metadata": {},
   "outputs": [],
   "source": [
    "chars = chars[['UNITID', 'INSTNM', 'STABBR', 'CONTROL']]\n",
    "\n",
    "enr = enr.loc[enr['EFFYALEV'] == 1, ['UNITID', 'EFYTOTLT']]\n",
    "\n",
    "data = pd.merge(chars, enr, how='left', on='UNITID')"
   ]
  },
  {
   "cell_type": "code",
   "execution_count": 7,
   "id": "f06f5454",
   "metadata": {},
   "outputs": [],
   "source": [
    "data.dropna(how='any', axis=0, inplace=True)"
   ]
  },
  {
   "cell_type": "code",
   "execution_count": 8,
   "id": "670aa8b1",
   "metadata": {},
   "outputs": [],
   "source": [
    "data.rename(columns={'INSTNM': 'school',\n",
    "                    'STABBR': 'state',\n",
    "                    'CONTROL': 'control',\n",
    "                    'EFYTOTLT': 'enrollment'},\n",
    "           inplace=True)"
   ]
  },
  {
   "cell_type": "code",
   "execution_count": 9,
   "id": "2849f78f",
   "metadata": {},
   "outputs": [],
   "source": [
    "data['control'] = data['control'].map({1: 'public', 2: 'private', 3: 'for-profit'})"
   ]
  },
  {
   "cell_type": "markdown",
   "id": "1eb2b1ae",
   "metadata": {},
   "source": [
    "# Task 1"
   ]
  },
  {
   "cell_type": "code",
   "execution_count": 10,
   "id": "c8eb4bc9",
   "metadata": {},
   "outputs": [
    {
     "name": "stdout",
     "output_type": "stream",
     "text": [
      "<class 'pandas.core.frame.DataFrame'>\n",
      "Index: 6086 entries, 0 to 6286\n",
      "Data columns (total 5 columns):\n",
      " #   Column      Non-Null Count  Dtype  \n",
      "---  ------      --------------  -----  \n",
      " 0   UNITID      6086 non-null   int64  \n",
      " 1   school      6086 non-null   object \n",
      " 2   state       6086 non-null   object \n",
      " 3   control     6086 non-null   object \n",
      " 4   enrollment  6086 non-null   float64\n",
      "dtypes: float64(1), int64(1), object(3)\n",
      "memory usage: 285.3+ KB\n",
      "None\n",
      "    UNITID                               school state  control  enrollment\n",
      "0   100654             Alabama A & M University    AL   public      6628.0\n",
      "1   100663  University of Alabama at Birmingham    AL   public     26327.0\n",
      "2   100690                   Amridge University    AL  private      1087.0\n",
      "3   100706  University of Alabama in Huntsville    AL   public     11318.0\n",
      "4   100724             Alabama State University    AL   public      4478.0\n",
      "6   100751            The University of Alabama    AL   public     41992.0\n",
      "7   100760    Central Alabama Community College    AL   public      2108.0\n",
      "8   100812              Athens State University    AL   public      3792.0\n",
      "9   100830      Auburn University at Montgomery    AL   public      6141.0\n",
      "10  100858                    Auburn University    AL   public     33175.0\n"
     ]
    }
   ],
   "source": [
    "print(data.info())\n",
    "print(data.head(n=10))"
   ]
  },
  {
   "cell_type": "code",
   "execution_count": 15,
   "id": "9cbc764d",
   "metadata": {},
   "outputs": [
    {
     "data": {
      "text/plain": [
       "<Axes: xlabel='enrollment', ylabel='Count'>"
      ]
     },
     "execution_count": 15,
     "metadata": {},
     "output_type": "execute_result"
    },
    {
     "data": {
      "image/png": "[encoded data removed]",
      "text/plain": [
       "<Figure size 432x288 with 3 Axes>"
      ]
     },
     "metadata": {
      "needs_background": "light"
     },
     "output_type": "display_data"
    }
   ],
   "source": [
    "fig, (ax1, ax2, ax3) = plt.subplots(1, 3, sharey=True)\n",
    "plt.tight_layout()\n",
    "sns.histplot(ax=ax1, data=data[data[\"control\"] == \"public\"], x=\"enrollment\")\n",
    "sns.histplot(ax=ax2, data=data[data[\"control\"] == \"privte\"], x=\"enrollment\")\n",
    "sns.histplot(ax=ax3, data=data[data[\"control\"] == \"for-profit\"], x=\"enrollment\")"
   ]
  }
 ],
 "metadata": {
  "kernelspec": {
   "display_name": "Python 3 (ipykernel)",
   "language": "python",
   "name": "python3"
  },
  "language_info": {
   "codemirror_mode": {
    "name": "ipython",
    "version": 3
   },
   "file_extension": ".py",
   "mimetype": "text/x-python",
   "name": "python",
   "nbconvert_exporter": "python",
   "pygments_lexer": "ipython3",
   "version": "3.10.12"
  }
 },
 "nbformat": 4,
 "nbformat_minor": 5
}
