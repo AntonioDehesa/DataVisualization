{
 "cells": [
  {
   "cell_type": "code",
   "execution_count": 3,
   "id": "504e14d4",
   "metadata": {},
   "outputs": [],
   "source": [
    "import numpy as np\n",
    "import pandas as pd\n",
    "import plotly.express as px\n",
    "import plotly.io as pio\n",
    "import plotly.figure_factory as ff\n",
    "from plotly.subplots import make_subplots\n",
    "import plotly.graph_objects as go\n",
    "from dash import Dash, dcc, html, Input, Output\n",
    "pio.renderers.default='notebook_connected'\n",
    "pio.templates.default = 'simple_white'"
   ]
  },
  {
   "cell_type": "markdown",
   "id": "aed6a648",
   "metadata": {},
   "source": [
    "#### In Class: Using the above examples build a simple dash application using the gapminder data.  Use a dcc.Dropwdown component to allow for year selection and render the global life expectancy distribution for that year.  You can borrow the histogram code from earlier in the notebook.  If you need an extra challenge, make an additional dcc object to control some other aspect of the resulting plot."
   ]
  },
  {
   "cell_type": "code",
   "execution_count": 8,
   "id": "28c02a2e",
   "metadata": {},
   "outputs": [
    {
     "name": "stdout",
     "output_type": "stream",
     "text": [
      "<class 'pandas.core.frame.DataFrame'>\n",
      "RangeIndex: 1704 entries, 0 to 1703\n",
      "Data columns (total 8 columns):\n",
      " #   Column     Non-Null Count  Dtype  \n",
      "---  ------     --------------  -----  \n",
      " 0   country    1704 non-null   object \n",
      " 1   continent  1704 non-null   object \n",
      " 2   year       1704 non-null   int64  \n",
      " 3   lifeExp    1704 non-null   float64\n",
      " 4   pop        1704 non-null   int64  \n",
      " 5   gdpPercap  1704 non-null   float64\n",
      " 6   iso_alpha  1704 non-null   object \n",
      " 7   iso_num    1704 non-null   int64  \n",
      "dtypes: float64(2), int64(3), object(3)\n",
      "memory usage: 106.6+ KB\n"
     ]
    }
   ],
   "source": [
    "data = px.data.gapminder()\n",
    "data.info()"
   ]
  },
  {
   "cell_type": "code",
   "execution_count": 13,
   "id": "fa221440",
   "metadata": {},
   "outputs": [
    {
     "data": {
      "text/html": [
       "\n",
       "        <iframe\n",
       "            width=\"100%\"\n",
       "            height=\"650\"\n",
       "            src=\"http://127.0.0.1:8050/\"\n",
       "            frameborder=\"0\"\n",
       "            allowfullscreen\n",
       "            \n",
       "        ></iframe>\n",
       "        "
      ],
      "text/plain": [
       "<IPython.lib.display.IFrame at 0x7f2a79c14ac0>"
      ]
     },
     "metadata": {},
     "output_type": "display_data"
    }
   ],
   "source": [
    "app = Dash()\n",
    "\n",
    "md_text = \"\"\"Country Selector\"\"\"\n",
    "\n",
    "app.layout = html.Div([\n",
    "    html.Div([\n",
    "        dcc.Markdown(children=md_text, \n",
    "                     style={'font': '15px Arial, sans-serif', 'color': 'black', 'font-weight': '500'}),\n",
    "        dcc.Dropdown(options=[dict(label=i, value=i) for i in sorted(data.country.unique())],\n",
    "                    value='Denver County',\n",
    "                    id='county-selection'),\n",
    "        html.P('''Country vs Population world %''')\n",
    "    ], style={'width': '40%', 'padding': '15px', 'display': 'inline-block', 'backgroundColor': 'white'}),\n",
    "    \n",
    "    html.Div([dcc.Graph(id='enr-donut')],\n",
    "              style={'width': '58%','float': 'right', 'display': 'inline-block', 'backgroundColor': 'black'})\n",
    "], style={'backgroundColor': 'white'})\n",
    "\n",
    "@app.callback(\n",
    "    Output(component_id='enr-donut', component_property='figure'),\n",
    "    Input(component_id='county-selection', component_property='value'))\n",
    "def update_plots(cnty):\n",
    "    pio.templates.default='simple_white'\n",
    "    \n",
    "    fig = px.pie(data.loc[data['country'] == cnty, :], \n",
    "             values='pop', \n",
    "             names='iso_alpha',\n",
    "            hover_data=['pop'],\n",
    "             color_discrete_sequence=px.colors.sequential.Inferno,\n",
    "            hole=0.4)\n",
    "\n",
    "    fig.update_traces(textposition='inside')\n",
    "    \n",
    "    return fig\n",
    "\n",
    "app.run_server(debug=True, use_reloader=False)"
   ]
  }
 ],
 "metadata": {
  "kernelspec": {
   "display_name": "Python 3 (ipykernel)",
   "language": "python",
   "name": "python3"
  },
  "language_info": {
   "codemirror_mode": {
    "name": "ipython",
    "version": 3
   },
   "file_extension": ".py",
   "mimetype": "text/x-python",
   "name": "python",
   "nbconvert_exporter": "python",
   "pygments_lexer": "ipython3",
   "version": "3.10.12"
  }
 },
 "nbformat": 4,
 "nbformat_minor": 5
}
