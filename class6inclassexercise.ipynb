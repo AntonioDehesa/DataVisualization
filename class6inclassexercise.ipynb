{
 "cells": [
  {
   "cell_type": "code",
   "execution_count": 1,
   "id": "2199bde2",
   "metadata": {},
   "outputs": [],
   "source": [
    "# imports\n",
    "import pandas as pd\n",
    "import numpy as np\n",
    "import seaborn as sns\n",
    "import matplotlib.pyplot as plt"
   ]
  },
  {
   "cell_type": "code",
   "execution_count": 2,
   "id": "92d39073",
   "metadata": {},
   "outputs": [],
   "source": [
    "taxis = sns.load_dataset(\"taxis\")"
   ]
  },
  {
   "cell_type": "code",
   "execution_count": 3,
   "id": "6f1fb84e",
   "metadata": {},
   "outputs": [
    {
     "name": "stdout",
     "output_type": "stream",
     "text": [
      "<class 'pandas.core.frame.DataFrame'>\n",
      "RangeIndex: 6433 entries, 0 to 6432\n",
      "Data columns (total 14 columns):\n",
      " #   Column           Non-Null Count  Dtype         \n",
      "---  ------           --------------  -----         \n",
      " 0   pickup           6433 non-null   datetime64[ns]\n",
      " 1   dropoff          6433 non-null   datetime64[ns]\n",
      " 2   passengers       6433 non-null   int64         \n",
      " 3   distance         6433 non-null   float64       \n",
      " 4   fare             6433 non-null   float64       \n",
      " 5   tip              6433 non-null   float64       \n",
      " 6   tolls            6433 non-null   float64       \n",
      " 7   total            6433 non-null   float64       \n",
      " 8   color            6433 non-null   object        \n",
      " 9   payment          6389 non-null   object        \n",
      " 10  pickup_zone      6407 non-null   object        \n",
      " 11  dropoff_zone     6388 non-null   object        \n",
      " 12  pickup_borough   6407 non-null   object        \n",
      " 13  dropoff_borough  6388 non-null   object        \n",
      "dtypes: datetime64[ns](2), float64(5), int64(1), object(6)\n",
      "memory usage: 703.7+ KB\n",
      "None\n",
      "               pickup             dropoff  passengers  distance  fare   tip  \\\n",
      "0 2019-03-23 20:21:09 2019-03-23 20:27:24           1      1.60   7.0  2.15   \n",
      "1 2019-03-04 16:11:55 2019-03-04 16:19:00           1      0.79   5.0  0.00   \n",
      "2 2019-03-27 17:53:01 2019-03-27 18:00:25           1      1.37   7.5  2.36   \n",
      "3 2019-03-10 01:23:59 2019-03-10 01:49:51           1      7.70  27.0  6.15   \n",
      "4 2019-03-30 13:27:42 2019-03-30 13:37:14           3      2.16   9.0  1.10   \n",
      "5 2019-03-11 10:37:23 2019-03-11 10:47:31           1      0.49   7.5  2.16   \n",
      "6 2019-03-26 21:07:31 2019-03-26 21:17:29           1      3.65  13.0  2.00   \n",
      "7 2019-03-22 12:47:13 2019-03-22 12:58:17           0      1.40   8.5  0.00   \n",
      "8 2019-03-23 11:48:50 2019-03-23 12:06:14           1      3.63  15.0  1.00   \n",
      "9 2019-03-08 16:18:37 2019-03-08 16:26:57           1      1.52   8.0  1.00   \n",
      "\n",
      "   tolls  total   color      payment                pickup_zone  \\\n",
      "0    0.0  12.95  yellow  credit card            Lenox Hill West   \n",
      "1    0.0   9.30  yellow         cash      Upper West Side South   \n",
      "2    0.0  14.16  yellow  credit card              Alphabet City   \n",
      "3    0.0  36.95  yellow  credit card                  Hudson Sq   \n",
      "4    0.0  13.40  yellow  credit card               Midtown East   \n",
      "5    0.0  12.96  yellow  credit card  Times Sq/Theatre District   \n",
      "6    0.0  18.80  yellow  credit card          Battery Park City   \n",
      "7    0.0  11.80  yellow          NaN                Murray Hill   \n",
      "8    0.0  19.30  yellow  credit card          East Harlem South   \n",
      "9    0.0  13.30  yellow  credit card        Lincoln Square East   \n",
      "\n",
      "              dropoff_zone pickup_borough dropoff_borough  \n",
      "0      UN/Turtle Bay South      Manhattan       Manhattan  \n",
      "1    Upper West Side South      Manhattan       Manhattan  \n",
      "2             West Village      Manhattan       Manhattan  \n",
      "3           Yorkville West      Manhattan       Manhattan  \n",
      "4           Yorkville West      Manhattan       Manhattan  \n",
      "5             Midtown East      Manhattan       Manhattan  \n",
      "6  Two Bridges/Seward Park      Manhattan       Manhattan  \n",
      "7                 Flatiron      Manhattan       Manhattan  \n",
      "8           Midtown Center      Manhattan       Manhattan  \n",
      "9             Central Park      Manhattan       Manhattan  \n"
     ]
    }
   ],
   "source": [
    "print(taxis.info())\n",
    "print(taxis.head(n=10))"
   ]
  },
  {
   "cell_type": "code",
   "execution_count": null,
   "id": "17185c36",
   "metadata": {},
   "outputs": [],
   "source": [
    "sns"
   ]
  }
 ],
 "metadata": {
  "kernelspec": {
   "display_name": "Python 3 (ipykernel)",
   "language": "python",
   "name": "python3"
  },
  "language_info": {
   "codemirror_mode": {
    "name": "ipython",
    "version": 3
   },
   "file_extension": ".py",
   "mimetype": "text/x-python",
   "name": "python",
   "nbconvert_exporter": "python",
   "pygments_lexer": "ipython3",
   "version": "3.10.12"
  }
 },
 "nbformat": 4,
 "nbformat_minor": 5
}
